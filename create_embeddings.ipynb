{
 "cells": [
  {
   "cell_type": "markdown",
   "metadata": {},
   "source": [
    "# Setup\n",
    "\n",
    "Der Code unterhalb braucht nur gensim, kann mit `pip install gensim` installiert werden. "
   ]
  },
  {
   "cell_type": "code",
   "execution_count": 1,
   "metadata": {},
   "outputs": [],
   "source": [
    "import os\n",
    "import xml.etree.ElementTree as ET\n",
    "from gensim.models import Word2Vec\n",
    "from gensim.models import FastText\n",
    "import re\n",
    "from pathlib import Path\n",
    "from typing import List\n",
    "import random"
   ]
  },
  {
   "cell_type": "markdown",
   "metadata": {},
   "source": [
    "# Word2Vec trainieren\n",
    "\n",
    "Der Code unterhalb ist nur relevant, wenn du das Modell neu trainieren willst - ein fertiges Modell ist allerdings schon geuploaded. \n",
    "\n",
    "Der Code zum Testen / Anwenden ist weiter unten. \n",
    "\n",
    "Ich habe die Einstellungen nochmal ein bisschen verändert: \n",
    "100 ist vollkommen ausreichend als dimension, und ein größeres window erreicht, dass mehr Information rausgeholt wird.  "
   ]
  },
  {
   "cell_type": "code",
   "execution_count": null,
   "metadata": {},
   "outputs": [],
   "source": [
    "# Train Model\n",
    "model = FastText(\n",
    "    corpus_file=\"corpus_cleaned.txt\",\n",
    "    vector_size=300,  # Dimensionality of the word embeddings\n",
    "    window=10,         # Max distance between current and predicted word\n",
    "    min_count=3,      # Ignores all words with total frequency < 3\n",
    "    workers=8,        # Number of threads to run in parallel\n",
    "    epochs=5,        # Number of training epochs\n",
    "    sg=1\n",
    ")\n",
    "\n",
    "# 4) Save the trained model for later use\n",
    "model.save(\"word2vec.model\")"
   ]
  },
  {
   "cell_type": "code",
   "execution_count": 4,
   "metadata": {},
   "outputs": [],
   "source": [
    "# Assume `model` is your trained Word2Vec model\n",
    "vocabulary = model.wv.key_to_index\n",
    "\n",
    "# Print the vocabulary (all words)\n",
    "with open(\"vocabulary.txt\", 'w') as fw: \n",
    "    fw.writelines('\\n'.join(list(vocabulary.keys())))"
   ]
  },
  {
   "cell_type": "markdown",
   "metadata": {},
   "source": [
    "# Modell anwenden\n",
    "\n",
    "Wenn in fastText-Modell verwendet wird (ist beim aktuellen word2vec-Modell und dem zugehörigen Code oberhalb der Fall), können beliebige Sequenzen und Wörter getestet werden, unabhängig davon, ob diese in den Trainingsdaten waren. In diesem Fall wird die Eingabe in einzelne, kleinere Buchstabenfolgen zerlegt, die sich in den Trainingsdaten finden. Trotzdem ist das Ergebnis auf Wörtern aus dem Vokabular (kann mit dem Code direkt oberhalb in eine Datei geschrieben werden) vermutlich ab besten. \n",
    "\n",
    "Wenn ein normales Word2Vec-Modell verwendet wird (nicht empfohlen, schlechtere Ergebnisse), können nur Wörter aus dem Vokabular eingegeben werden."
   ]
  },
  {
   "cell_type": "code",
   "execution_count": 17,
   "metadata": {},
   "outputs": [],
   "source": [
    "def find_contexts(\n",
    "    file_path: str | Path,\n",
    "    target_word: str,\n",
    "    window: int = 3,\n",
    "    max_examples: int = 5\n",
    ") -> None:\n",
    "    \"\"\"Zählt Vorkommen von `target_word` und gibt Kontexte (±window) aus.\"\"\"\n",
    "    text = Path(file_path).read_text(encoding=\"utf-8\", errors=\"ignore\")\n",
    "\n",
    "    sentences = text.split('\\n')\n",
    "    matches = []\n",
    "    target_word = target_word.lower()\n",
    "    for s_idx, sent in enumerate(sentences): \n",
    "        sent_lower = sent.lower()\n",
    "        if target_word in sent_lower: # matches\n",
    "            for i, char in enumerate(sent_lower): \n",
    "                if sent_lower[i:i + len(target_word)] == target_word: \n",
    "                    matches.append((i, sent))\n",
    "\n",
    "\n",
    "    sampled_matches = random.sample(matches, k=min(5, len(matches)))\n",
    "    print(f\"Found {len(matches)} matches for '{target_word}' in {file_path}.\")\n",
    "    for n, match_el in enumerate(sampled_matches):\n",
    "        idx = match_el[0]\n",
    "        sent = match_el[1]\n",
    "        start = max(idx - window, 0)\n",
    "        end = min(idx + window + len(target_word) +1, len(sent))\n",
    "        \n",
    "        out_text = sent[idx:idx+len(target_word)].upper()\n",
    "        if start < idx: \n",
    "            out_text = sent[start:idx] + out_text\n",
    "        if idx < end: \n",
    "            out_text = out_text + sent[idx+len(target_word):end]\n",
    "        if start > 0: \n",
    "            out_text = '... ' + out_text\n",
    "        if end < len(sent): \n",
    "            out_text = out_text + ' ...'\n",
    "        print(out_text)"
   ]
  },
  {
   "cell_type": "code",
   "execution_count": 4,
   "metadata": {},
   "outputs": [],
   "source": [
    "# Load Model\n",
    "model = FastText.load(\"word2vec.model\")"
   ]
  },
  {
   "cell_type": "code",
   "execution_count": null,
   "metadata": {},
   "outputs": [
    {
     "name": "stdout",
     "output_type": "stream",
     "text": [
      "[('ethnomasochisme', 0.9348476529121399), ('masochiste', 0.919653058052063), ('djihadistes', 0.8303912878036499), ('masochisme', 0.817060112953186), ('islamo_gauchistes', 0.8088613152503967), ('#islamogauchisme', 0.8024135828018188), ('franciliens', 0.7978147268295288), ('matérialistes', 0.7937813997268677), ('gpa', 0.7932493090629578), ('israéliens', 0.7932366132736206), ('universalistes', 0.7915453314781189), ('ethno', 0.7905784249305725), ('indigénistes', 0.7894279360771179), ('djihadiste', 0.7891472578048706), ('minorités_ethniques', 0.7823185920715332), ('mouvements_nationalistes', 0.7803925275802612), ('terrorisme_islamiste', 0.7795858383178711), ('gouvernements_successifs', 0.7766215801239014), ('racialistes', 0.7760908007621765), ('anasse_kazib', 0.7757160067558289), ('dirigeants', 0.775704562664032), ('parti_communiste', 0.7745497822761536), ('socialistes', 0.772439181804657), ('lacrymogène', 0.766057014465332), ('terroristes', 0.7633559703826904)] \n",
      "\n",
      "Found 5 matches for 'ethnomasochiste' in corpus_raw.txt.\n",
      "...  et psychologique au profit d’une politique d’immigration coûteuse et ETHNOMASOCHISTE, les militants de l’Alvarium, inspirés des différentes doctrines natio ...\n",
      "... eillés\", qui acquiescent à leur expropriation au nom d’un antiracisme ETHNOMASOCHISTE. Ils sont convaincus que la \"blanchité\" est un fléau à éradiquer, même ...\n",
      "...  et psychologique au profit d’une politique d’immigration coûteuse et ETHNOMASOCHISTE, les militants de l’Alvarium, inspirés des différentes doctrines natio ...\n",
      "...  et psychologique au profit d’une politique d’immigration coûteuse et ETHNOMASOCHISTE, les militants de l’Alvarium, inspirés des différentes doctrines natio ...\n",
      "...  et psychologique au profit d’une politique d’immigration coûteuse et ETHNOMASOCHISTE, les militants de l’Alvarium, inspirés des différentes doctrines natio ...\n"
     ]
    }
   ],
   "source": [
    "target_word = 'juifs'\n",
    "similar_words = model.wv.most_similar(target_word, topn=25)\n",
    "print(similar_words, '\\n')\n",
    "find_contexts(\"corpus_raw.txt\", target_word, window =70)"
   ]
  },
  {
   "cell_type": "code",
   "execution_count": 110,
   "metadata": {},
   "outputs": [],
   "source": [
    "def char_overlap(target_word, neighbours:list): \n",
    "    overlaps = []\n",
    "    lens = []\n",
    "    for neighbour in neighbours: \n",
    "        if len(target_word) > len(neighbour): \n",
    "            longer_word = target_word\n",
    "            shorter_word = neighbour\n",
    "        else: \n",
    "            longer_word = neighbour\n",
    "            shorter_word = target_word\n",
    "        lens.append(len(shorter_word))\n",
    "        n_gram_len = len(shorter_word)\n",
    "        found_overlap = False\n",
    "        print(neighbour)\n",
    "        while n_gram_len > 0 and not found_overlap: \n",
    "            for starting_pos in range(len(shorter_word) - n_gram_len + 1): \n",
    "                #print(starting_pos)\n",
    "                n_gram = shorter_word[starting_pos:starting_pos+n_gram_len]\n",
    "                #print(n_gram)\n",
    "                if n_gram in longer_word: \n",
    "                    #print('yes')\n",
    "                    overlaps.append(n_gram_len)\n",
    "                    found_overlap = True\n",
    "                    break\n",
    "            n_gram_len -= 1\n",
    "        if n_gram_len == 0 and not found_overlap: \n",
    "            overlaps.append(0)\n",
    "    \n",
    "    print(overlaps)\n",
    "    print(lens)\n",
    "    sum = 0\n",
    "    for i, overlap in enumerate(overlaps): \n",
    "        # Prints fraction of *maximum possible overlap* for those words \n",
    "        sum += overlap/lens[i]\n",
    "    print(sum/len(overlaps))"
   ]
  }
 ],
 "metadata": {
  "kernelspec": {
   "display_name": "Python 3 (ipykernel)",
   "language": "python",
   "name": "python3"
  },
  "language_info": {
   "codemirror_mode": {
    "name": "ipython",
    "version": 3
   },
   "file_extension": ".py",
   "mimetype": "text/x-python",
   "name": "python",
   "nbconvert_exporter": "python",
   "pygments_lexer": "ipython3",
   "version": "3.10.16"
  }
 },
 "nbformat": 4,
 "nbformat_minor": 2
}
