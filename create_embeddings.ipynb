{
 "cells": [
  {
   "cell_type": "markdown",
   "metadata": {},
   "source": [
    "# Setup\n",
    "\n",
    "Der Code unterhalb braucht nur gensim, kann mit `pip install gensim` installiert werden. "
   ]
  },
  {
   "cell_type": "code",
   "execution_count": 1,
   "metadata": {},
   "outputs": [],
   "source": [
    "import os\n",
    "import xml.etree.ElementTree as ET\n",
    "from gensim.models import Word2Vec\n",
    "from gensim.models import FastText\n",
    "import re\n",
    "from pathlib import Path\n",
    "from typing import List\n",
    "import random"
   ]
  },
  {
   "cell_type": "markdown",
   "metadata": {},
   "source": [
    "# Word2Vec trainieren\n",
    "\n",
    "Der Code unterhalb ist nur relevant, wenn du das Modell neu trainieren willst - ein fertiges Modell ist allerdings schon geuploaded. \n",
    "\n",
    "Der Code zum Testen / Anwenden ist weiter unten. \n",
    "\n",
    "Ich habe die Einstellungen nochmal ein bisschen verändert: \n",
    "100 ist vollkommen ausreichend als dimension, und ein größeres window erreicht, dass mehr Information rausgeholt wird.  "
   ]
  },
  {
   "cell_type": "code",
   "execution_count": 72,
   "metadata": {},
   "outputs": [],
   "source": [
    "# Train Model\n",
    "model = FastText(\n",
    "    corpus_file=\"corpus_cleaned.txt\",\n",
    "    vector_size=100,  # Dimensionality of the word embeddings\n",
    "    window=10,         # Max distance between current and predicted word\n",
    "    min_count=3,      # Ignores all words with total frequency < 3\n",
    "    workers=8,        # Number of threads to run in parallel\n",
    "    epochs=5,        # Number of training epochs\n",
    "    sg=1\n",
    ")\n",
    "\n",
    "# 4) Save the trained model for later use\n",
    "model.save(\"word2vec.model\")"
   ]
  },
  {
   "cell_type": "code",
   "execution_count": 4,
   "metadata": {},
   "outputs": [],
   "source": [
    "# Assume `model` is your trained Word2Vec model\n",
    "vocabulary = model.wv.key_to_index\n",
    "\n",
    "# Print the vocabulary (all words)\n",
    "with open(\"vocabulary.txt\", 'w') as fw: \n",
    "    fw.writelines('\\n'.join(list(vocabulary.keys())))"
   ]
  },
  {
   "cell_type": "markdown",
   "metadata": {},
   "source": [
    "# Modell anwenden\n",
    "\n",
    "Wenn in fastText-Modell verwendet wird (ist beim aktuellen word2vec-Modell und dem zugehörigen Code oberhalb der Fall), können beliebige Sequenzen und Wörter getestet werden, unabhängig davon, ob diese in den Trainingsdaten waren. In diesem Fall wird die Eingabe in einzelne, kleinere Buchstabenfolgen zerlegt, die sich in den Trainingsdaten finden. Trotzdem ist das Ergebnis auf Wörtern aus dem Vokabular (kann mit dem Code direkt oberhalb in eine Datei geschrieben werden) vermutlich ab besten. \n",
    "\n",
    "Wenn ein normales Word2Vec-Modell verwendet wird (nicht empfohlen, schlechtere Ergebnisse), können nur Wörter aus dem Vokabular eingegeben werden."
   ]
  },
  {
   "cell_type": "code",
   "execution_count": 17,
   "metadata": {},
   "outputs": [],
   "source": [
    "def find_contexts(\n",
    "    file_path: str | Path,\n",
    "    target_word: str,\n",
    "    window: int = 3,\n",
    "    max_examples: int = 5\n",
    ") -> None:\n",
    "    \"\"\"Zählt Vorkommen von `target_word` und gibt Kontexte (±window) aus.\"\"\"\n",
    "    text = Path(file_path).read_text(encoding=\"utf-8\", errors=\"ignore\")\n",
    "\n",
    "    sentences = text.split('\\n')\n",
    "    matches = []\n",
    "    target_word = target_word.lower()\n",
    "    for s_idx, sent in enumerate(sentences): \n",
    "        sent_lower = sent.lower()\n",
    "        if target_word in sent_lower: # matches\n",
    "            for i, char in enumerate(sent_lower): \n",
    "                if sent_lower[i:i + len(target_word)] == target_word: \n",
    "                    matches.append((i, sent))\n",
    "\n",
    "\n",
    "    sampled_matches = random.sample(matches, k=min(5, len(matches)))\n",
    "    print(f\"Found {len(matches)} matches for '{target_word}' in {file_path}.\")\n",
    "    for n, match_el in enumerate(sampled_matches):\n",
    "        idx = match_el[0]\n",
    "        sent = match_el[1]\n",
    "        start = max(idx - window, 0)\n",
    "        end = min(idx + window + len(target_word) +1, len(sent))\n",
    "        \n",
    "        out_text = sent[idx:idx+len(target_word)].upper()\n",
    "        if start < idx: \n",
    "            out_text = sent[start:idx] + out_text\n",
    "        if idx < end: \n",
    "            out_text = out_text + sent[idx+len(target_word):end]\n",
    "        if start > 0: \n",
    "            out_text = '... ' + out_text\n",
    "        if end < len(sent): \n",
    "            out_text = out_text + ' ...'\n",
    "        print(out_text)"
   ]
  },
  {
   "cell_type": "code",
   "execution_count": 4,
   "metadata": {},
   "outputs": [],
   "source": [
    "# Load Model\n",
    "model = FastText.load(\"word2vec.model\")"
   ]
  },
  {
   "cell_type": "code",
   "execution_count": 78,
   "metadata": {},
   "outputs": [
    {
     "name": "stdout",
     "output_type": "stream",
     "text": [
      "[('médiapart', 0.857431948184967), ('médiatisé', 0.8439648151397705), ('médiatisées', 0.8332687020301819), ('politiciens_dégoisent', 0.8130007386207581), ('médicaux', 0.8093469142913818), ('gouvernants', 0.8090627789497375), ('médiatiques', 0.8077409267425537), ('médian', 0.8017556071281433), ('pouvoirs_publics', 0.7992739081382751), ('manipulateurs', 0.7976551651954651), ('dictateurs', 0.7952010035514832), ('conseils_sociaux', 0.7944594621658325), ('conséquences_néfastes', 0.7923824787139893), ('méthodes', 0.7854080200195312), ('média', 0.7830628752708435), ('extrême_gauche', 0.7814053297042847), ('mafias', 0.7775233387947083), ('illégaux', 0.7728759050369263), ('dias', 0.7725704312324524), ('sociaux', 0.7701998949050903), ('agitateurs', 0.7683047652244568), ('spectateurs', 0.7602495551109314), ('intermédiaires', 0.75950688123703), ('désastreux', 0.7564697861671448), ('libéraux', 0.7563742399215698)] \n",
      "\n",
      "Found 156 matches for 'médias' in corpus_raw.txt.\n",
      "... in et d'éditeur, Daniel Conversano est exclu de la quasi-totalité des MÉDIAS internet de droite.S'il est vrai que certaines dissensions idéologique ...\n",
      "... acoublay. Le vol n’a duré qu’une demi-heure. Informés à l’avance, les MÉDIAS ont pris des photos et tourné un film.\n",
      "... s représentants de l’Establishment, appuyés par la quasi-totalité des MÉDIAS, de l’autre, des Américains attachés à leurs racines, à leur sociabili ...\n",
      "... uent de la servilité des grands médias français vis-à-vis du pouvoir, MÉDIAS qui relaient et justifient sans vergogne les oukases, mensonges et men ...\n",
      "... : Comment contrer la \" culture de l’effacement \" à la fac et dans les MÉDIAS ? (Jacques Smith)19h00 : Chapelet19h30 : Dîner20h30 : Répétition de ch ...\n"
     ]
    }
   ],
   "source": [
    "target_word = 'médias'\n",
    "similar_words = model.wv.most_similar(target_word, topn=25)\n",
    "print(similar_words, '\\n')\n",
    "find_contexts(\"corpus_raw.txt\", target_word, window=70)\n",
    "# find_contexts(\"corpus_cleaned.txt\", target_word, window=70) # Findet möglicherweise manche Wörter, die in `corpus_raw.txt` durch Punktiation o.ä. getrennt sind. Außerdem sind die gemergeden Phrasen dort bereits mit einem Unterstrich kombiniert, anders als in `corpus_raw.txt`."
   ]
  },
  {
   "cell_type": "code",
   "execution_count": 110,
   "metadata": {},
   "outputs": [],
   "source": [
    "def char_overlap(target_word, neighbours:list): \n",
    "    overlaps = []\n",
    "    lens = []\n",
    "    for neighbour in neighbours: \n",
    "        if len(target_word) > len(neighbour): \n",
    "            longer_word = target_word\n",
    "            shorter_word = neighbour\n",
    "        else: \n",
    "            longer_word = neighbour\n",
    "            shorter_word = target_word\n",
    "        lens.append(len(shorter_word))\n",
    "        n_gram_len = len(shorter_word)\n",
    "        found_overlap = False\n",
    "        print(neighbour)\n",
    "        while n_gram_len > 0 and not found_overlap: \n",
    "            for starting_pos in range(len(shorter_word) - n_gram_len + 1): \n",
    "                #print(starting_pos)\n",
    "                n_gram = shorter_word[starting_pos:starting_pos+n_gram_len]\n",
    "                #print(n_gram)\n",
    "                if n_gram in longer_word: \n",
    "                    #print('yes')\n",
    "                    overlaps.append(n_gram_len)\n",
    "                    found_overlap = True\n",
    "                    break\n",
    "            n_gram_len -= 1\n",
    "        if n_gram_len == 0 and not found_overlap: \n",
    "            overlaps.append(0)\n",
    "    \n",
    "    print(overlaps)\n",
    "    print(lens)\n",
    "    sum = 0\n",
    "    for i, overlap in enumerate(overlaps): \n",
    "        # Prints fraction of *maximum possible overlap* for those words \n",
    "        sum += overlap/lens[i]\n",
    "    print(sum/len(overlaps))"
   ]
  }
 ],
 "metadata": {
  "kernelspec": {
   "display_name": "Python 3 (ipykernel)",
   "language": "python",
   "name": "python3"
  },
  "language_info": {
   "codemirror_mode": {
    "name": "ipython",
    "version": 3
   },
   "file_extension": ".py",
   "mimetype": "text/x-python",
   "name": "python",
   "nbconvert_exporter": "python",
   "pygments_lexer": "ipython3",
   "version": "3.10.16"
  }
 },
 "nbformat": 4,
 "nbformat_minor": 2
}
